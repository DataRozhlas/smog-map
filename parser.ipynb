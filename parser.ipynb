{
 "cells": [
  {
   "cell_type": "code",
   "execution_count": 1,
   "metadata": {
    "collapsed": true
   },
   "outputs": [],
   "source": [
    "import pandas as pd\n",
    "import tarfile\n",
    "import json\n",
    "from scipy import stats\n",
    "import numpy as np"
   ]
  },
  {
   "cell_type": "code",
   "execution_count": 2,
   "metadata": {},
   "outputs": [],
   "source": [
    "tar = tarfile.open(\"./scratch/scraped.tar.gz\", \"r:gz\")"
   ]
  },
  {
   "cell_type": "code",
   "execution_count": 3,
   "metadata": {},
   "outputs": [],
   "source": [
    "def parse(jsn):\n",
    "    dump = {}\n",
    "    for state in jsn['States']:\n",
    "        time = state['DateFromTo']\n",
    "        state_name = state['Name']\n",
    "        for region in state['Regions']:\n",
    "            region_name = region['Name']\n",
    "            for station in region['Stations']:\n",
    "                if 'Lat' in station:\n",
    "                    sid = station['Name'] + '|' + time\n",
    "                    out = {'time': time, 'state_name': state_name, 'region_name': region_name}\n",
    "                    out['code'] = station['Code']\n",
    "                    out['name'] = station['Name']\n",
    "                    out['cls'] = station['Classif']\n",
    "                    out['ix'] = station['Ix']\n",
    "                    out['lat'] = station['Lat']\n",
    "                    out['lon'] = station['Lon']\n",
    "                    for comp in station['Components']:\n",
    "                        if ((comp['Code'] == 'PM10') & (comp['Int'] == '24h')) | ('Val' not in comp):\n",
    "                            continue\n",
    "                        else:\n",
    "                            out[comp['Code']] = comp['Val']\n",
    "                    dump[sid] = out\n",
    "    return dump"
   ]
  },
  {
   "cell_type": "code",
   "execution_count": 4,
   "metadata": {},
   "outputs": [
    {
     "name": "stdout",
     "output_type": "stream",
     "text": [
      "ERR <TarInfo 'scraped/1455802202939.json' at 0x20455689688>\n",
      "ERR <TarInfo 'scraped/1455802505665.json' at 0x20455d11f20>\n"
     ]
    }
   ],
   "source": [
    "dta = {}\n",
    "for member in tar.getmembers():\n",
    "    if '.json' in str(member):\n",
    "        try:\n",
    "            f = tar.extractfile(member)\n",
    "            jsn = json.loads(f.read())\n",
    "            dta.update(parse(jsn))\n",
    "        except:\n",
    "            print('ERR ' + str(member))"
   ]
  },
  {
   "cell_type": "code",
   "execution_count": 5,
   "metadata": {},
   "outputs": [],
   "source": [
    "frm = pd.DataFrame.from_dict(dta, orient='index')\n",
    "dta = None"
   ]
  },
  {
   "cell_type": "code",
   "execution_count": 6,
   "metadata": {},
   "outputs": [
    {
     "data": {
      "text/plain": [
       "{-1: {'Color': 'CFCFCF',\n",
       "  'ColorText': '000000',\n",
       "  'Description': 'Index se na uvedené stanici nestanovuje'},\n",
       " 0: {'Color': 'FFFFFF', 'ColorText': '000000', 'Description': 'Neúplná data'},\n",
       " 1: {'Color': 'C7EAFB', 'ColorText': '000000', 'Description': 'velmi dobrá'},\n",
       " 2: {'Color': '9BD3AE', 'ColorText': '000000', 'Description': 'dobrá'},\n",
       " 3: {'Color': 'FFF200', 'ColorText': '000000', 'Description': 'uspokojivá'},\n",
       " 4: {'Color': 'FAA61A', 'ColorText': '000000', 'Description': 'vyhovující'},\n",
       " 5: {'Color': 'ED1C24', 'ColorText': 'FFFFFF', 'Description': 'špatná'},\n",
       " 6: {'Color': '671F20', 'ColorText': 'FFFFFF', 'Description': 'velmi špatná'}}"
      ]
     },
     "execution_count": 6,
     "metadata": {},
     "output_type": "execute_result"
    }
   ],
   "source": [
    "pd.DataFrame.from_dict(jsn['Legend']).set_index('Ix').to_dict(orient='index')"
   ]
  },
  {
   "cell_type": "code",
   "execution_count": 7,
   "metadata": {},
   "outputs": [],
   "source": [
    "frm['dtime'] = frm.time.apply(lambda x: ' '.join(x.split(' ')[0::3]))"
   ]
  },
  {
   "cell_type": "code",
   "execution_count": 8,
   "metadata": {},
   "outputs": [],
   "source": [
    "frm['day'] = frm.dtime.apply(lambda x: str(x).split(' ')[0])"
   ]
  },
  {
   "cell_type": "code",
   "execution_count": 9,
   "metadata": {},
   "outputs": [],
   "source": [
    "frm.dtime = pd.to_datetime(frm.dtime, dayfirst=True)"
   ]
  },
  {
   "cell_type": "code",
   "execution_count": 11,
   "metadata": {},
   "outputs": [],
   "source": [
    "polulants = ['SO2', 'NO2', 'CO', 'PM10', 'O3', 'PM2_5', 'lat', 'lon']\n",
    "for pol in polulants:\n",
    "    frm[pol] = pd.to_numeric(frm[pol], errors='coerce')"
   ]
  },
  {
   "cell_type": "code",
   "execution_count": 13,
   "metadata": {},
   "outputs": [],
   "source": [
    "frm.to_csv('./scratch/cleaned_dump.csv', encoding='utf-8')"
   ]
  },
  {
   "cell_type": "code",
   "execution_count": 16,
   "metadata": {},
   "outputs": [],
   "source": [
    "frm = pd.read_csv('./scratch/cleaned_dump.csv')"
   ]
  },
  {
   "cell_type": "code",
   "execution_count": 19,
   "metadata": {},
   "outputs": [],
   "source": [
    "frm.set_index('Unnamed: 0', inplace=True)"
   ]
  },
  {
   "cell_type": "code",
   "execution_count": 20,
   "metadata": {},
   "outputs": [
    {
     "name": "stderr",
     "output_type": "stream",
     "text": [
      "C:\\Users\\datastory\\Anaconda3\\lib\\site-packages\\ipykernel_launcher.py:18: SettingWithCopyWarning: \n",
      "A value is trying to be set on a copy of a slice from a DataFrame.\n",
      "Try using .loc[row_indexer,col_indexer] = value instead\n",
      "\n",
      "See the caveats in the documentation: http://pandas.pydata.org/pandas-docs/stable/indexing.html#indexing-view-versus-copy\n"
     ]
    }
   ],
   "source": [
    "#odbordelit data\n",
    "def repl(val, sd):\n",
    "    if (val != val):\n",
    "        return None\n",
    "    if val > (3 * sd):\n",
    "        return None\n",
    "    else:\n",
    "        return val\n",
    "\n",
    "for stanice in frm.code.unique():\n",
    "    for pol in polulants:\n",
    "        vl = frm[frm.code == stanice][pol].values\n",
    "        vl = pd.to_numeric(vl, errors='coerce')\n",
    "        vl = vl[~np.isnan(vl)]\n",
    "        if len(vl) < 1:\n",
    "            continue\n",
    "        sd = np.std(vl)\n",
    "        frm[frm.code == stanice][pol] = frm[frm.code == stanice][pol].apply(lambda x: repl(x, sd))"
   ]
  },
  {
   "cell_type": "code",
   "execution_count": 22,
   "metadata": {},
   "outputs": [],
   "source": [
    "grp = frm.groupby(['code', 'day'], as_index=False)[['SO2', 'NO2', 'CO', 'PM10', 'O3', 'PM2_5']].mean().to_dict(orient='index')"
   ]
  },
  {
   "cell_type": "code",
   "execution_count": 24,
   "metadata": {},
   "outputs": [],
   "source": [
    "out_dict = {}\n",
    "for rec in grp:\n",
    "    r = grp[rec]\n",
    "    code = r['code']\n",
    "    day = r['day']\n",
    "    \n",
    "    if code not in out_dict:\n",
    "        out_dict[code] = {}\n",
    "    if day not in out_dict[code]:\n",
    "        out_dict[code][day] = {}\n",
    "    \n",
    "    r.pop('code')\n",
    "    r.pop('day')\n",
    "    out_dict[code][day] = r"
   ]
  },
  {
   "cell_type": "code",
   "execution_count": 25,
   "metadata": {},
   "outputs": [],
   "source": [
    "def norm(v):\n",
    "    if v > 0:\n",
    "        return v\n",
    "    else:\n",
    "        return None\n",
    "    \n",
    "frm['ix'] = frm['ix'].apply(lambda x: norm(x))"
   ]
  },
  {
   "cell_type": "code",
   "execution_count": 26,
   "metadata": {},
   "outputs": [],
   "source": [
    "for station in out_dict:\n",
    "    with open('./data/' + station + '.json', 'w', encoding='utf-8') as f:\n",
    "        f.write(json.dumps(out_dict[station]).replace('NaN', 'null'))"
   ]
  },
  {
   "cell_type": "code",
   "execution_count": 32,
   "metadata": {},
   "outputs": [],
   "source": [
    "# nejcastejsi denni hodnota\n",
    "glob = frm.groupby(['state_name', 'region_name', 'code', 'name', 'cls', 'lat', 'lon'], as_index=False)[['ix']].mean() #apply(lambda x: float(stats.mode(x)[0][0]))"
   ]
  },
  {
   "cell_type": "code",
   "execution_count": 33,
   "metadata": {},
   "outputs": [],
   "source": [
    "glob = glob.reset_index()"
   ]
  },
  {
   "cell_type": "code",
   "execution_count": 34,
   "metadata": {},
   "outputs": [],
   "source": [
    "glob.drop_duplicates(subset=['code'], inplace=True)"
   ]
  },
  {
   "cell_type": "code",
   "execution_count": 35,
   "metadata": {},
   "outputs": [],
   "source": [
    "glob.rename(columns={0: 'ix'}, inplace=True)"
   ]
  },
  {
   "cell_type": "code",
   "execution_count": 40,
   "metadata": {},
   "outputs": [],
   "source": [
    "glob.to_csv('./scratch/stations.csv', encoding='utf-8', index=False)"
   ]
  },
  {
   "cell_type": "code",
   "execution_count": null,
   "metadata": {},
   "outputs": [],
   "source": []
  },
  {
   "cell_type": "code",
   "execution_count": 36,
   "metadata": {},
   "outputs": [],
   "source": [
    "glob[glob['ix'] > 0 ].set_index('code').to_json('./data/stations.json', orient='index')"
   ]
  }
 ],
 "metadata": {
  "kernelspec": {
   "display_name": "Python 3",
   "language": "python",
   "name": "python3"
  },
  "language_info": {
   "codemirror_mode": {
    "name": "ipython",
    "version": 3
   },
   "file_extension": ".py",
   "mimetype": "text/x-python",
   "name": "python",
   "nbconvert_exporter": "python",
   "pygments_lexer": "ipython3",
   "version": "3.6.3"
  }
 },
 "nbformat": 4,
 "nbformat_minor": 2
}
